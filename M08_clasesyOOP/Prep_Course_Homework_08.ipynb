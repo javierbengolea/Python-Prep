{
 "cells": [
  {
   "attachments": {},
   "cell_type": "markdown",
   "metadata": {},
   "source": [
    "## Clases y Programación Orientada a Objetos"
   ]
  },
  {
   "attachments": {},
   "cell_type": "markdown",
   "metadata": {},
   "source": [
    "1) Crear la clase vehículo que contenga los atributos:<br>\n",
    "Color<br>\n",
    "Si es moto, auto, camioneta ó camión<br>\n",
    "Cilindrada del motor"
   ]
  },
  {
   "cell_type": "code",
   "execution_count": 1,
   "metadata": {},
   "outputs": [],
   "source": [
    "class Vehiculo:\n",
    "    def __init__(self, color, tipo, cilindrada):\n",
    "        self.color = color\n",
    "        self.tipo = tipo\n",
    "        self.cilindrada = cilindrada\n",
    "        "
   ]
  },
  {
   "attachments": {},
   "cell_type": "markdown",
   "metadata": {},
   "source": [
    "2) A la clase Vehiculo creada en el punto 1, agregar los siguientes métodos:<br>\n",
    "Acelerar<br>\n",
    "Frenar<br>\n",
    "Doblar<br>"
   ]
  },
  {
   "cell_type": "code",
   "execution_count": 55,
   "metadata": {},
   "outputs": [],
   "source": [
    "class Vehiculo:\n",
    "    def __init__(self, color, tipo, cilindrada):\n",
    "        self.color = color\n",
    "        self.tipo = tipo\n",
    "        self.cilindrada = cilindrada\n",
    "        self.velocidad = 0\n",
    "        self.direccion = 0\n",
    "    \n",
    "    def acelerar(self, velocidad):\n",
    "        self.velocidad += velocidad\n",
    "        print(f\"Soy un {self.tipo} de color {self.color} cilindrada {self.cilindrada} y acelero: {self.velocidad} km/h !\")\n",
    "\n",
    "    def frenar(self, velocidad):\n",
    "        self.velocidad -= velocidad\n",
    "        print(f\"Soy un {self.tipo} de color {self.color} cilindrada {self.cilindrada} y freno: {self.velocidad}!\")\n",
    "        \n",
    "\n",
    "    def doblar(self, direccion):\n",
    "        self.direccion += direccion\n",
    "        print(f\"Soy un {self.tipo} de color {self.color} cilindrada {self.cilindrada} y doblo: {self.direccion} grados !\")\n",
    "        \n",
    "\n"
   ]
  },
  {
   "attachments": {},
   "cell_type": "markdown",
   "metadata": {},
   "source": [
    "3) Instanciar 3 objetos de la clase vehículo y ejecutar sus métodos, probar luego el resultado"
   ]
  },
  {
   "cell_type": "code",
   "execution_count": 57,
   "metadata": {},
   "outputs": [
    {
     "name": "stdout",
     "output_type": "stream",
     "text": [
      "Soy un Auto de color Azul cilindrada V8 y doblo: 90 grados !\n",
      "Soy un Moto de color Gris cilindrada 150 y acelero: 20 km/h !\n",
      "Soy un Camion de color Blanco cilindrada ... y freno: -10!\n"
     ]
    }
   ],
   "source": [
    "auto = Vehiculo(\"Azul\", \"Auto\", \"V8\")\n",
    "moto = Vehiculo(\"Gris\", \"Moto\", \"150\")\n",
    "camion = Vehiculo(\"Blanco\", \"Camion\", \"...\")\n",
    "\n",
    "auto.doblar(90)\n",
    "moto.acelerar(20)\n",
    "camion.frenar(10)\n"
   ]
  },
  {
   "attachments": {},
   "cell_type": "markdown",
   "metadata": {},
   "source": [
    "4) Agregar a la clase Vehiculo, un método que muestre su estado, es decir, a que velocidad se encuentra y su dirección. Y otro método que muestre color, tipo y cilindrada"
   ]
  },
  {
   "cell_type": "code",
   "execution_count": 58,
   "metadata": {},
   "outputs": [
    {
     "name": "stdout",
     "output_type": "stream",
     "text": [
      "Soy un Auto de color Azul cilindrada V8 y doblo: 90 grados !\n",
      "Soy un Moto de color Gris cilindrada 150 y acelero: 20 km/h !\n",
      "Soy un Camion de color Blanco cilindrada ... y freno: -10!\n",
      "Soy un Auto de color Azul cilindrada V8\n",
      "Velocidad:  0\n",
      "Direccion:  90\n",
      "Soy un Moto de color Gris cilindrada 150\n",
      "Velocidad:  20\n",
      "Direccion:  0\n",
      "Soy un Camion de color Blanco cilindrada ...\n",
      "Velocidad:  -10\n",
      "Direccion:  0\n"
     ]
    }
   ],
   "source": [
    "class Vehiculo:\n",
    "    def __init__(self, color, tipo, cilindrada):\n",
    "        self.color = color\n",
    "        self.tipo = tipo\n",
    "        self.cilindrada = cilindrada\n",
    "        self.velocidad = 0\n",
    "        self.direccion = 0\n",
    "    \n",
    "    def acelerar(self, velocidad):\n",
    "        self.velocidad += velocidad\n",
    "        print(f\"Soy un {self.tipo} de color {self.color} cilindrada {self.cilindrada} y acelero: {self.velocidad} km/h !\")\n",
    "\n",
    "    def frenar(self, velocidad):\n",
    "        self.velocidad -= velocidad\n",
    "        print(f\"Soy un {self.tipo} de color {self.color} cilindrada {self.cilindrada} y freno: {self.velocidad}!\")\n",
    "        \n",
    "\n",
    "    def doblar(self, direccion):\n",
    "        self.direccion += direccion\n",
    "        print(f\"Soy un {self.tipo} de color {self.color} cilindrada {self.cilindrada} y doblo: {self.direccion} grados !\")\n",
    "\n",
    "    def estado(self):\n",
    "        print(\"Velocidad: \", self.velocidad)\n",
    "        print(\"Direccion: \", self.direccion)\n",
    "\n",
    "    def presentar(self):\n",
    "        print(f\"Soy un {self.tipo} de color {self.color} cilindrada {self.cilindrada}\")\n",
    "        \n",
    "auto = Vehiculo(\"Azul\", \"Auto\", \"V8\")\n",
    "moto = Vehiculo(\"Gris\", \"Moto\", \"150\")\n",
    "camion = Vehiculo(\"Blanco\", \"Camion\", \"...\")\n",
    "\n",
    "auto.doblar(90)\n",
    "moto.acelerar(20)\n",
    "camion.frenar(10)\n",
    "\n",
    "auto.presentar()\n",
    "auto.estado()\n",
    "\n",
    "moto.presentar()\n",
    "moto.estado()\n",
    "\n",
    "camion.presentar()\n",
    "camion.estado()"
   ]
  },
  {
   "attachments": {},
   "cell_type": "markdown",
   "metadata": {},
   "source": [
    "5) Crear una clase que permita utilizar las funciones creadas en la práctica del módulo 7<br>\n",
    "Verificar Primo<br>\n",
    "Valor modal<br>\n",
    "Conversión grados<br>\n",
    "Factorial<br>"
   ]
  },
  {
   "cell_type": "code",
   "execution_count": 43,
   "metadata": {},
   "outputs": [],
   "source": [
    "class Funciones:\n",
    "    def __init__(self, lista=[]):\n",
    "        super(Funciones, self).__init__()\n",
    "        self.lista = lista\n",
    "\n",
    "\n",
    "    def es_primo(self, n):\n",
    "        prim = True\n",
    "        for i in range(2,n):        \n",
    "            if n % i == 0:\n",
    "                return False\n",
    "            prim = True\n",
    "        return prim\n",
    "\n",
    "    def moda(self, lista):\n",
    "        salida = dict()\n",
    "        \n",
    "        for i in lista:\n",
    "            if i not in salida:\n",
    "                salida[i] = 1\n",
    "            else:\n",
    "                salida[i] += 1\n",
    "                \n",
    "        mayor = 0\n",
    "        indice = 0\n",
    "                \n",
    "        for i in lista:\n",
    "            if salida[i] > mayor:\n",
    "                mayor = salida[i]\n",
    "                indice = i\n",
    "\n",
    "        return indice, salida[indice]\n",
    "        \n",
    "\n",
    "    def conversion(self,t,de=\"Celsius\", a=\"Fahrenheit\"):\n",
    "        grados = [\"Celsius\", \"Fahrenheit\", \"Kelvin\"]\n",
    "        \n",
    "        if de not in grados or a not in grados:\n",
    "            print(\"Error, medida incorrecta!!! \", de, a)\n",
    "        \n",
    "        if de == \"Celsius\" and a == \"Fahrenheit\":\n",
    "            return (t * 1.8) + 32\n",
    "        elif de == \"Celsius\" and a == \"Kelvin\":\n",
    "            return t + 273.15\n",
    "        elif de == \"Fahrenheit\" and a == \"Celsius\":\n",
    "            return (t - 32) / 1.8\n",
    "        elif de == \"Fahrenheit\" and a == \"Kelvin\":\n",
    "            return (t - 32) / 1.8 + 273.15\n",
    "        elif de == \"Kelvin\" and a == \"Celsius\":\n",
    "            return t - 273.15\n",
    "        elif de == \"Kelvin\" and a == \"Fahrenheit\":\n",
    "            return (t - 273.15) * 1.8 + 32\n",
    "        \n",
    "        return t    \n",
    "\n",
    "    def factorial(self, n):\n",
    "        if n < 0 or (float(n) - float(int(n))) > 0:\n",
    "            raise Exception(\"n must be a positive integer\")\n",
    "            \n",
    "        if n == 1:\n",
    "            return 1\n",
    "        return n * self.factorial(n-1)\n",
    "    \n",
    "    def aplicar_funciones(self):\n",
    "\n",
    "        lista_primos = [(i, \"Primo\" if self.es_primo(i) else \"No Primo\") for i in self.lista]\n",
    "        print(lista_primos)\n",
    "        print(\"La tupla (moda, ocurrencias) es, \", self.moda(self.lista))\n",
    "        lista_temperaturas = [(i, self.conversion(i, \"Celsius\", \"Fahrenheit\")) for i in self.lista]\n",
    "        print(\"Celsius a Farenheit: \", lista_temperaturas)\n",
    "        lista_factoriales = [(i, self.factorial(i)) for i in self.lista]\n",
    "        print(\"Factoriales: \", lista_factoriales)\n",
    "    "
   ]
  },
  {
   "attachments": {},
   "cell_type": "markdown",
   "metadata": {},
   "source": [
    "6) Probar las funciones incorporadas en la clase del punto 5"
   ]
  },
  {
   "cell_type": "code",
   "execution_count": 32,
   "metadata": {},
   "outputs": [
    {
     "name": "stdout",
     "output_type": "stream",
     "text": [
      "True\n",
      "(7, 6)\n",
      "96.8\n",
      "3628800\n"
     ]
    }
   ],
   "source": [
    "funciones = Funciones()\n",
    "\n",
    "print(funciones.es_primo(29))\n",
    "print(funciones.moda([1,2,3,4,5,6,7,7,7,7,7,7,2,1,2]))\n",
    "print(funciones.conversion(36))\n",
    "print(funciones.factorial(10))"
   ]
  },
  {
   "attachments": {},
   "cell_type": "markdown",
   "metadata": {},
   "source": [
    "7) Es necesario que la clase creada en el punto 5 contenga una lista, sobre la cual se apliquen las funciones incorporadas"
   ]
  },
  {
   "cell_type": "code",
   "execution_count": 44,
   "metadata": {},
   "outputs": [
    {
     "name": "stdout",
     "output_type": "stream",
     "text": [
      "[(1, 'Primo'), (2, 'Primo'), (3, 'Primo'), (4, 'No Primo'), (5, 'Primo'), (6, 'No Primo'), (7, 'Primo'), (8, 'No Primo'), (9, 'No Primo'), (1, 'Primo'), (5, 'Primo'), (9, 'No Primo'), (1, 'Primo'), (5, 'Primo'), (4, 'No Primo'), (2, 'Primo'), (3, 'Primo'), (7, 'Primo')]\n",
      "La tupla (moda, ocurrencias) es,  (1, 3)\n",
      "Celsius a Farenheit:  [(1, 33.8), (2, 35.6), (3, 37.4), (4, 39.2), (5, 41.0), (6, 42.8), (7, 44.6), (8, 46.4), (9, 48.2), (1, 33.8), (5, 41.0), (9, 48.2), (1, 33.8), (5, 41.0), (4, 39.2), (2, 35.6), (3, 37.4), (7, 44.6)]\n",
      "Factoriales:  [(1, 1), (2, 2), (3, 6), (4, 24), (5, 120), (6, 720), (7, 5040), (8, 40320), (9, 362880), (1, 1), (5, 120), (9, 362880), (1, 1), (5, 120), (4, 24), (2, 2), (3, 6), (7, 5040)]\n"
     ]
    }
   ],
   "source": [
    "funciones = Funciones([1,2,3,4,5,6,7,8,9,1,5,9,1,5,4,2,3,7])\n",
    "\n",
    "funciones.aplicar_funciones()\n"
   ]
  },
  {
   "attachments": {},
   "cell_type": "markdown",
   "metadata": {},
   "source": [
    "8) Crear un archivo .py aparte y ubicar allí la clase generada en el punto anterior. Luego realizar la importación del módulo y probar alguna de sus funciones"
   ]
  },
  {
   "cell_type": "code",
   "execution_count": 49,
   "metadata": {},
   "outputs": [
    {
     "name": "stdout",
     "output_type": "stream",
     "text": [
      "[(19, 'Primo'), (13, 'Primo'), (17, 'Primo'), (11, 'Primo'), (18, 'No Primo'), (7, 'Primo'), (4, 'No Primo'), (1, 'Primo'), (20, 'No Primo'), (3, 'Primo'), (6, 'No Primo'), (16, 'No Primo'), (4, 'No Primo'), (20, 'No Primo'), (11, 'Primo'), (8, 'No Primo'), (10, 'No Primo'), (7, 'Primo'), (10, 'No Primo'), (3, 'Primo')]\n",
      "La tupla (moda, ocurrencias) es,  (11, 2)\n",
      "Celsius a Farenheit:  [(19, 66.2), (13, 55.400000000000006), (17, 62.6), (11, 51.8), (18, 64.4), (7, 44.6), (4, 39.2), (1, 33.8), (20, 68.0), (3, 37.4), (6, 42.8), (16, 60.8), (4, 39.2), (20, 68.0), (11, 51.8), (8, 46.4), (10, 50.0), (7, 44.6), (10, 50.0), (3, 37.4)]\n",
      "Factoriales:  [(19, 121645100408832000), (13, 6227020800), (17, 355687428096000), (11, 39916800), (18, 6402373705728000), (7, 5040), (4, 24), (1, 1), (20, 2432902008176640000), (3, 6), (6, 720), (16, 20922789888000), (4, 24), (20, 2432902008176640000), (11, 39916800), (8, 40320), (10, 3628800), (7, 5040), (10, 3628800), (3, 6)]\n"
     ]
    }
   ],
   "source": [
    "import funciones as f\n",
    "import random as r\n",
    "\n",
    "funciones = f.Funciones([r.randint(0,20) for i in range(20)])\n",
    "\n",
    "funciones.aplicar_funciones()\n",
    "\n"
   ]
  }
 ],
 "metadata": {
  "interpreter": {
   "hash": "c85384e4cb51c8b72350f3a8712cc8351fdc3955e32a27f9b60c6242ab125f01"
  },
  "kernelspec": {
   "display_name": "Python 3 (ipykernel)",
   "language": "python",
   "name": "python3"
  },
  "language_info": {
   "codemirror_mode": {
    "name": "ipython",
    "version": 3
   },
   "file_extension": ".py",
   "mimetype": "text/x-python",
   "name": "python",
   "nbconvert_exporter": "python",
   "pygments_lexer": "ipython3",
   "version": "3.11.2"
  }
 },
 "nbformat": 4,
 "nbformat_minor": 4
}
