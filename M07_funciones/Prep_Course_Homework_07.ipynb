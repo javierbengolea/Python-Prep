{
 "cells": [
  {
   "attachments": {},
   "cell_type": "markdown",
   "metadata": {},
   "source": [
    "## Funciones"
   ]
  },
  {
   "attachments": {},
   "cell_type": "markdown",
   "metadata": {},
   "source": [
    "1) Crear una función que reciba un número como parámetro y devuelva True si es primo y False si no lo es"
   ]
  },
  {
   "cell_type": "code",
   "execution_count": 8,
   "metadata": {},
   "outputs": [
    {
     "name": "stdout",
     "output_type": "stream",
     "text": [
      "0\n",
      "1\n",
      "2\n",
      "3\n",
      "5\n",
      "7\n",
      "11\n",
      "13\n",
      "17\n",
      "19\n",
      "23\n",
      "29\n"
     ]
    }
   ],
   "source": [
    "def primo(n):\n",
    "    prim = True\n",
    "    for i in range(2,n):        \n",
    "        if n % i == 0:\n",
    "            return False\n",
    "        prim = True\n",
    "    return prim\n",
    "\n",
    "for i in range(30):\n",
    "    if primo(i):\n",
    "        print(i)"
   ]
  },
  {
   "attachments": {},
   "cell_type": "markdown",
   "metadata": {},
   "source": [
    "2) Utilizando la función del punto 1, realizar otra función que reciba de parámetro una lista de números y devuelva sólo aquellos que son primos en otra lista"
   ]
  },
  {
   "cell_type": "code",
   "execution_count": 10,
   "metadata": {},
   "outputs": [
    {
     "name": "stdout",
     "output_type": "stream",
     "text": [
      "[1, 5, 11, 13, 23, 29]\n"
     ]
    }
   ],
   "source": [
    "def solo_primos(lista):\n",
    "    salida = []\n",
    "    for i in lista:\n",
    "        if primo(i):\n",
    "            salida.append(i)\n",
    "    return salida\n",
    "\n",
    "lista_evaluar = [1,5,11,13,20,21,22,23,25,29]\n",
    "\n",
    "print(solo_primos(lista_evaluar))"
   ]
  },
  {
   "attachments": {},
   "cell_type": "markdown",
   "metadata": {},
   "source": [
    "3) Crear una función que al recibir una lista de números, devuelva el que más se repite y cuántas veces lo hace. Si hay más de un \"más repetido\", que devuelva cualquiera"
   ]
  },
  {
   "cell_type": "code",
   "execution_count": 16,
   "metadata": {},
   "outputs": [
    {
     "name": "stdout",
     "output_type": "stream",
     "text": [
      "(8, 7)\n"
     ]
    }
   ],
   "source": [
    "def repetidos(lista):\n",
    "    salida = dict()\n",
    "    \n",
    "    for i in lista:\n",
    "        if i not in salida:\n",
    "            salida[i] = 1\n",
    "        else:\n",
    "            salida[i] += 1\n",
    "            \n",
    "    mayor = 0\n",
    "    indice = 0\n",
    "            \n",
    "    for i in lista:\n",
    "        if salida[i] > mayor:\n",
    "            mayor = salida[i]\n",
    "            indice = i\n",
    "            \n",
    "        \n",
    "            \n",
    "    return (indice, mayor)\n",
    "\n",
    "print(repetidos([1,1,1,2,2,2,3,3,3,4,5,5,6,6,7,8,8,8,8,8,8,8]))"
   ]
  },
  {
   "attachments": {},
   "cell_type": "markdown",
   "metadata": {},
   "source": [
    "4) Crear una función que convierta entre grados Celsius, Farenheit y Kelvin<br>\n",
    "Fórmula 1\t: (°C × 9/5) + 32 = °F<br>\n",
    "Fórmula 2\t: °C + 273.15 = °K<br>\n",
    "Debe recibir 3 parámetros: el valor, la medida de orígen y la medida de destino\n"
   ]
  },
  {
   "cell_type": "code",
   "execution_count": 19,
   "metadata": {},
   "outputs": [
    {
     "name": "stdout",
     "output_type": "stream",
     "text": [
      "233.14999999999998\n"
     ]
    }
   ],
   "source": [
    "def conversion(t,de=\"Celsius\", a=\"Fahrenheit\"):\n",
    "    grados = [\"Celsius\", \"Fahrenheit\", \"Kelvin\"]\n",
    "    \n",
    "    if de not in grados or a not in grados:\n",
    "        print(\"Error, medida incorrecta!!! \", de, a)\n",
    "    \n",
    "    if de == \"Celsius\" and a == \"Fahrenheit\":\n",
    "        return (t * 1.8) + 32\n",
    "    elif de == \"Celsius\" and a == \"Kelvin\":\n",
    "        return t + 273.15\n",
    "    elif de == \"Fahrenheit\" and a == \"Celsius\":\n",
    "        return (t - 32) / 1.8\n",
    "    elif de == \"Fahrenheit\" and a == \"Kelvin\":\n",
    "        return (t - 32) / 1.8 + 273.15\n",
    "    elif de == \"Kelvin\" and a == \"Celsius\":\n",
    "        return t - 273.15\n",
    "    elif de == \"Kelvin\" and a == \"Fahrenheit\":\n",
    "        return (t - 273.15) * 1.8 + 32\n",
    "    \n",
    "    return t    \n",
    "\n",
    "\n",
    "print(conversion(-40, \"Fahrenheit\", \"Kelvin\"))"
   ]
  },
  {
   "attachments": {},
   "cell_type": "markdown",
   "metadata": {},
   "source": [
    "5) Iterando una lista con los tres valores posibles de temperatura que recibe la función del punto 5, hacer un print para cada combinación de los mismos:"
   ]
  },
  {
   "cell_type": "code",
   "execution_count": 24,
   "metadata": {},
   "outputs": [
    {
     "name": "stdout",
     "output_type": "stream",
     "text": [
      "Grados:  36  de  Celsius  a  Fahrenheit  =  96.8\n",
      "Grados:  36  de  Celsius  a  Kelvin  =  309.15\n",
      "Grados:  36  de  Fahrenheit  a  Celsius  =  2.2222222222222223\n",
      "Grados:  36  de  Fahrenheit  a  Kelvin  =  275.3722222222222\n",
      "Grados:  36  de  Kelvin  a  Celsius  =  -237.14999999999998\n",
      "Grados:  36  de  Kelvin  a  Fahrenheit  =  -394.86999999999995\n"
     ]
    }
   ],
   "source": [
    "def posibles_valores(n):\n",
    "    grados = [\"Celsius\", \"Fahrenheit\", \"Kelvin\"]\n",
    "    for i in grados:\n",
    "        for j in grados:\n",
    "            if i!= j:\n",
    "                print(\"Grados: \",n, \" de \", i, \" a \",j, \" = \",conversion(n, i, j))\n",
    "\n",
    "    return\n",
    "\n",
    "posibles_valores(36)"
   ]
  },
  {
   "attachments": {},
   "cell_type": "markdown",
   "metadata": {},
   "source": [
    "6) Armar una función que devuelva el factorial de un número. Tener en cuenta que el usuario puede equivocarse y enviar de parámetro un número no entero o negativo"
   ]
  },
  {
   "cell_type": "code",
   "execution_count": 37,
   "metadata": {},
   "outputs": [
    {
     "name": "stdout",
     "output_type": "stream",
     "text": [
      "120\n"
     ]
    }
   ],
   "source": [
    "def factorial(n):\n",
    "    if n < 0 or (float(n) - float(int(n))) > 0:\n",
    "        raise Exception(\"n must be a positive integer\")\n",
    "        \n",
    "    if n == 1:\n",
    "        return 1\n",
    "    return n * factorial(n-1)\n",
    "\n",
    "print(factorial(5))"
   ]
  }
 ],
 "metadata": {
  "interpreter": {
   "hash": "c85384e4cb51c8b72350f3a8712cc8351fdc3955e32a27f9b60c6242ab125f01"
  },
  "kernelspec": {
   "display_name": "Python 3 (ipykernel)",
   "language": "python",
   "name": "python3"
  },
  "language_info": {
   "codemirror_mode": {
    "name": "ipython",
    "version": 3
   },
   "file_extension": ".py",
   "mimetype": "text/x-python",
   "name": "python",
   "nbconvert_exporter": "python",
   "pygments_lexer": "ipython3",
   "version": "3.11.2"
  }
 },
 "nbformat": 4,
 "nbformat_minor": 4
}
