{
 "cells": [
  {
   "attachments": {},
   "cell_type": "markdown",
   "metadata": {},
   "source": [
    "## Manejo de errores"
   ]
  },
  {
   "attachments": {},
   "cell_type": "markdown",
   "metadata": {},
   "source": [
    "1) Con la clase creada en el módulo 7, tener en cuenta diferentes casos en que el código pudiera arrojar error. Por ejemplo, en la creación del objeto recibimos una lista de números enteros pero ¿qué pasa si se envía otro tipo de dato?"
   ]
  },
  {
   "cell_type": "code",
   "execution_count": 3,
   "metadata": {},
   "outputs": [
    {
     "name": "stdout",
     "output_type": "stream",
     "text": [
      "\n"
     ]
    }
   ],
   "source": [
    "import os\n",
    "import sys\n",
    "\n",
    "dir_actual = os.getcwd()\n",
    "sys.path.append(dir_actual)\n",
    "\n",
    "print()"
   ]
  },
  {
   "cell_type": "code",
   "execution_count": 4,
   "metadata": {},
   "outputs": [
    {
     "name": "stdout",
     "output_type": "stream",
     "text": [
      "<module 'funciones' from 'h:\\\\cursos_online\\\\henry\\\\data-science\\\\Python-Prep\\\\M09_errorhandling\\\\funciones.py'>\n"
     ]
    }
   ],
   "source": [
    "import funciones as f\n",
    "\n",
    "print(f)"
   ]
  },
  {
   "cell_type": "code",
   "execution_count": 7,
   "metadata": {},
   "outputs": [
    {
     "ename": "ValueError",
     "evalue": "Elemento no entero en la lista: u",
     "output_type": "error",
     "traceback": [
      "\u001b[1;31m---------------------------------------------------------------------------\u001b[0m",
      "\u001b[1;31mValueError\u001b[0m                                Traceback (most recent call last)",
      "Cell \u001b[1;32mIn[7], line 1\u001b[0m\n\u001b[1;32m----> 1\u001b[0m f\u001b[39m.\u001b[39;49mFunciones([\u001b[39m1\u001b[39;49m,\u001b[39m2\u001b[39;49m,\u001b[39m3\u001b[39;49m,\u001b[39m'\u001b[39;49m\u001b[39mu\u001b[39;49m\u001b[39m'\u001b[39;49m,\u001b[39m1\u001b[39;49m])\n",
      "File \u001b[1;32mh:\\cursos_online\\henry\\data-science\\Python-Prep\\M09_errorhandling\\funciones.py:9\u001b[0m, in \u001b[0;36mFunciones.__init__\u001b[1;34m(self, lista)\u001b[0m\n\u001b[0;32m      7\u001b[0m \u001b[39mfor\u001b[39;00m i \u001b[39min\u001b[39;00m lista:\n\u001b[0;32m      8\u001b[0m     \u001b[39mif\u001b[39;00m \u001b[39mtype\u001b[39m(i) \u001b[39m!=\u001b[39m \u001b[39mint\u001b[39m:\n\u001b[1;32m----> 9\u001b[0m         \u001b[39mraise\u001b[39;00m \u001b[39mValueError\u001b[39;00m(\u001b[39mf\u001b[39m\u001b[39m\"\u001b[39m\u001b[39mElemento no entero en la lista: \u001b[39m\u001b[39m{\u001b[39;00mi\u001b[39m}\u001b[39;00m\u001b[39m\"\u001b[39m)\n",
      "\u001b[1;31mValueError\u001b[0m: Elemento no entero en la lista: u"
     ]
    }
   ],
   "source": [
    "f.Funciones([1,2,3,'u',1])"
   ]
  },
  {
   "attachments": {},
   "cell_type": "markdown",
   "metadata": {},
   "source": [
    "2) En la función que hace la conversión de grados, validar que los parámetros enviados sean los esperados, de no serlo, informar cuáles son los valores esperados."
   ]
  },
  {
   "cell_type": "code",
   "execution_count": 15,
   "metadata": {},
   "outputs": [
    {
     "ename": "ValueError",
     "evalue": "Error, medida incorrecta!!! Javier, valores esperados: ['Celsius', 'Fahrenheit', 'Kelvin']",
     "output_type": "error",
     "traceback": [
      "\u001b[1;31m---------------------------------------------------------------------------\u001b[0m",
      "\u001b[1;31mValueError\u001b[0m                                Traceback (most recent call last)",
      "Cell \u001b[1;32mIn[15], line 6\u001b[0m\n\u001b[0;32m      3\u001b[0m importlib\u001b[39m.\u001b[39mreload(f)\n\u001b[0;32m      5\u001b[0m func \u001b[39m=\u001b[39m f\u001b[39m.\u001b[39mFunciones()\n\u001b[1;32m----> 6\u001b[0m func\u001b[39m.\u001b[39;49mconversion(\u001b[39m2\u001b[39;49m, \u001b[39m\"\u001b[39;49m\u001b[39mJavier\u001b[39;49m\u001b[39m\"\u001b[39;49m)\n",
      "File \u001b[1;32mh:\\cursos_online\\henry\\data-science\\Python-Prep\\M09_errorhandling\\funciones.py:45\u001b[0m, in \u001b[0;36mFunciones.conversion\u001b[1;34m(self, t, de, a)\u001b[0m\n\u001b[0;32m     42\u001b[0m grados \u001b[39m=\u001b[39m [\u001b[39m\"\u001b[39m\u001b[39mCelsius\u001b[39m\u001b[39m\"\u001b[39m, \u001b[39m\"\u001b[39m\u001b[39mFahrenheit\u001b[39m\u001b[39m\"\u001b[39m, \u001b[39m\"\u001b[39m\u001b[39mKelvin\u001b[39m\u001b[39m\"\u001b[39m]\n\u001b[0;32m     44\u001b[0m \u001b[39mif\u001b[39;00m de \u001b[39mnot\u001b[39;00m \u001b[39min\u001b[39;00m grados:\n\u001b[1;32m---> 45\u001b[0m     \u001b[39mraise\u001b[39;00m \u001b[39mValueError\u001b[39;00m(\u001b[39mf\u001b[39m\u001b[39m\"\u001b[39m\u001b[39mError, medida incorrecta!!! \u001b[39m\u001b[39m{\u001b[39;00mde\u001b[39m}\u001b[39;00m\u001b[39m, valores esperados: \u001b[39m\u001b[39m{\u001b[39;00mgrados\u001b[39m}\u001b[39;00m\u001b[39m\"\u001b[39m)\n\u001b[0;32m     47\u001b[0m \u001b[39mif\u001b[39;00m a \u001b[39mnot\u001b[39;00m \u001b[39min\u001b[39;00m grados:\n\u001b[0;32m     48\u001b[0m     \u001b[39mraise\u001b[39;00m \u001b[39mValueError\u001b[39;00m(\u001b[39mf\u001b[39m\u001b[39m\"\u001b[39m\u001b[39mError, medida incorrecta!!! \u001b[39m\u001b[39m{\u001b[39;00ma\u001b[39m}\u001b[39;00m\u001b[39m, valores esperados: \u001b[39m\u001b[39m{\u001b[39;00mgrados\u001b[39m}\u001b[39;00m\u001b[39m\"\u001b[39m)\n",
      "\u001b[1;31mValueError\u001b[0m: Error, medida incorrecta!!! Javier, valores esperados: ['Celsius', 'Fahrenheit', 'Kelvin']"
     ]
    }
   ],
   "source": [
    "import importlib\n",
    "\n",
    "importlib.reload(f)\n",
    "\n",
    "func = f.Funciones()\n",
    "func.conversion(2, \"Javier\")\n"
   ]
  },
  {
   "attachments": {},
   "cell_type": "markdown",
   "metadata": {},
   "source": [
    "3) Importar el modulo \"unittest\" y crear los siguientes casos de pruebas sobre la clase utilizada en el punto 2<br>\n",
    "Creacion del objeto incorrecta<br>\n",
    "Creacion correcta del objeto<br>\n",
    "Metodo valor_modal()<br>\n",
    "\n",
    "Se puede usar \"raise ValueError()\" en la creación de la clase para verificar el error. Investigar sobre esta funcionalidad."
   ]
  },
  {
   "cell_type": "code",
   "execution_count": 24,
   "metadata": {},
   "outputs": [
    {
     "name": "stderr",
     "output_type": "stream",
     "text": [
      "test_creacion_correcta (__main__.TestFunciones.test_creacion_correcta) ... ok\n",
      "test_creacion_fallida (__main__.TestFunciones.test_creacion_fallida) ... ok\n",
      "test_moda (__main__.TestFunciones.test_moda) ... ok\n",
      "\n",
      "----------------------------------------------------------------------\n",
      "Ran 3 tests in 0.005s\n",
      "\n",
      "OK\n"
     ]
    },
    {
     "data": {
      "text/plain": [
       "<unittest.main.TestProgram at 0x2017ca8e8d0>"
      ]
     },
     "execution_count": 24,
     "metadata": {},
     "output_type": "execute_result"
    }
   ],
   "source": [
    "import unittest\n",
    "\n",
    "class TestFunciones(unittest.TestCase):\n",
    "\n",
    "    def test_creacion_fallida(self):\n",
    "        param = [\"Javier\"]\n",
    "        self.assertRaises(ValueError, f.Funciones, param)\n",
    "\n",
    "    def test_creacion_correcta(self):\n",
    "        param = [1,2,3,4]\n",
    "        func =f.Funciones(param)\n",
    "        self.assertEqual(func.lista, param)\n",
    "\n",
    "    def test_moda(self):\n",
    "        param = [1,2,3,4,1]\n",
    "        func =f.Funciones()\n",
    "        self.assertEqual((1, 2), func.moda(param))\n",
    "\n",
    "unittest.main(argv=[''], verbosity=2, exit=False)\n"
   ]
  },
  {
   "attachments": {},
   "cell_type": "markdown",
   "metadata": {},
   "source": [
    "4) Probar una creación incorrecta y visualizar la salida del \"raise\""
   ]
  },
  {
   "cell_type": "code",
   "execution_count": 25,
   "metadata": {},
   "outputs": [
    {
     "ename": "ValueError",
     "evalue": "Elemento no entero en la lista: impresionante",
     "output_type": "error",
     "traceback": [
      "\u001b[1;31m---------------------------------------------------------------------------\u001b[0m",
      "\u001b[1;31mValueError\u001b[0m                                Traceback (most recent call last)",
      "Cell \u001b[1;32mIn[25], line 1\u001b[0m\n\u001b[1;32m----> 1\u001b[0m f \u001b[39m=\u001b[39m f\u001b[39m.\u001b[39;49mFunciones([\u001b[39m\"\u001b[39;49m\u001b[39mimpresionante\u001b[39;49m\u001b[39m\"\u001b[39;49m])\n",
      "File \u001b[1;32mh:\\cursos_online\\henry\\data-science\\Python-Prep\\M09_errorhandling\\funciones.py:10\u001b[0m, in \u001b[0;36mFunciones.__init__\u001b[1;34m(self, lista)\u001b[0m\n\u001b[0;32m      8\u001b[0m \u001b[39mfor\u001b[39;00m i \u001b[39min\u001b[39;00m lista:\n\u001b[0;32m      9\u001b[0m     \u001b[39mif\u001b[39;00m \u001b[39mtype\u001b[39m(i) \u001b[39m!=\u001b[39m \u001b[39mint\u001b[39m:\n\u001b[1;32m---> 10\u001b[0m         \u001b[39mraise\u001b[39;00m \u001b[39mValueError\u001b[39;00m(\u001b[39mf\u001b[39m\u001b[39m\"\u001b[39m\u001b[39mElemento no entero en la lista: \u001b[39m\u001b[39m{\u001b[39;00mi\u001b[39m}\u001b[39;00m\u001b[39m\"\u001b[39m)\n",
      "\u001b[1;31mValueError\u001b[0m: Elemento no entero en la lista: impresionante"
     ]
    }
   ],
   "source": [
    "f = f.Funciones([\"impresionante\"])\n",
    "\n"
   ]
  },
  {
   "attachments": {},
   "cell_type": "markdown",
   "metadata": {},
   "source": [
    "6) Agregar casos de pruebas para el método verifica_primos() realizando el cambio en la clase, para que devuelva una lista de True o False en función de que el elemento en la posisicón sea o no primo"
   ]
  },
  {
   "cell_type": "code",
   "execution_count": 32,
   "metadata": {},
   "outputs": [
    {
     "name": "stderr",
     "output_type": "stream",
     "text": [
      "test_creacion_correcta (__main__.TestFunciones.test_creacion_correcta) ... ok\n",
      "test_creacion_fallida (__main__.TestFunciones.test_creacion_fallida) ... ok\n",
      "test_moda (__main__.TestFunciones.test_moda) ... ok\n",
      "test_primos (__main__.TestFunciones.test_primos) ... ok\n",
      "\n",
      "----------------------------------------------------------------------\n",
      "Ran 4 tests in 0.006s\n",
      "\n",
      "OK\n"
     ]
    },
    {
     "data": {
      "text/plain": [
       "<unittest.main.TestProgram at 0x2017ca837d0>"
      ]
     },
     "execution_count": 32,
     "metadata": {},
     "output_type": "execute_result"
    }
   ],
   "source": [
    "import unittest\n",
    "\n",
    "class TestFunciones(unittest.TestCase):\n",
    "\n",
    "    def test_creacion_fallida(self):\n",
    "        param = [\"Javier\"]\n",
    "        self.assertRaises(ValueError, f.Funciones, param)\n",
    "\n",
    "    def test_creacion_correcta(self):\n",
    "        param = [1,2,3,4]\n",
    "        func =f.Funciones(param)\n",
    "        self.assertEqual(func.lista, param)\n",
    "\n",
    "    def test_moda(self):\n",
    "        param = [1,2,3,4,1]\n",
    "        func =f.Funciones()\n",
    "        self.assertEqual((1, 2), func.moda(param))\n",
    "\n",
    "    def test_primos(self):\n",
    "        func =f.Funciones()\n",
    "        self.assertEqual(func.es_primo(13), True)\n",
    "\n",
    "unittest.main(argv=[''], verbosity=2, exit=False)\n"
   ]
  },
  {
   "attachments": {},
   "cell_type": "markdown",
   "metadata": {},
   "source": [
    "7) Agregar casos de pruebas para el método conversion_grados()"
   ]
  },
  {
   "cell_type": "code",
   "execution_count": null,
   "metadata": {},
   "outputs": [],
   "source": [
    "import unittest\n",
    "\n",
    "class TestFunciones(unittest.TestCase):\n",
    "\n",
    "    def test_creacion_fallida(self):\n",
    "        param = [\"Javier\"]\n",
    "        self.assertRaises(ValueError, f.Funciones, param)\n",
    "\n",
    "    def test_creacion_correcta(self):\n",
    "        param = [1,2,3,4]\n",
    "        func =f.Funciones(param)\n",
    "        self.assertEqual(func.lista, param)\n",
    "\n",
    "    def test_moda(self):\n",
    "        param = [1,2,3,4,1]\n",
    "        func =f.Funciones()\n",
    "        self.assertEqual((1, 2), func.moda(param))\n",
    "\n",
    "    def test_primos(self):\n",
    "        func =f.Funciones()\n",
    "        self.assertEqual(func.es_primo(13), True)\n",
    "\n",
    "    def test_conversion(self):\n",
    "        func =f.Funciones()\n",
    "        valor_celsius = 36\n",
    "        valor_fahrenheit = 96.8\n",
    "\n",
    "        self.assertEqual(valor_fahrenheit, func.conversion(valor_celsius))\n",
    "        self.assertEqual(-40, func.conversion(-40))\n",
    "\n",
    "unittest.main(argv=[''], verbosity=2, exit=False)\n"
   ]
  },
  {
   "attachments": {},
   "cell_type": "markdown",
   "metadata": {},
   "source": [
    "8) Agregar casos de pruebas para el método factorial()"
   ]
  },
  {
   "cell_type": "code",
   "execution_count": 38,
   "metadata": {},
   "outputs": [
    {
     "name": "stderr",
     "output_type": "stream",
     "text": [
      "test_conversion (__main__.TestFunciones.test_conversion) ... ok\n",
      "test_creacion_correcta (__main__.TestFunciones.test_creacion_correcta) ... ok\n",
      "test_creacion_fallida (__main__.TestFunciones.test_creacion_fallida) ... ok\n",
      "test_factorial (__main__.TestFunciones.test_factorial) ... ok\n",
      "test_moda (__main__.TestFunciones.test_moda) ... ok\n",
      "test_primos (__main__.TestFunciones.test_primos) ... ok\n",
      "\n",
      "----------------------------------------------------------------------\n",
      "Ran 6 tests in 0.011s\n",
      "\n",
      "OK\n"
     ]
    },
    {
     "data": {
      "text/plain": [
       "<unittest.main.TestProgram at 0x2017cb34610>"
      ]
     },
     "execution_count": 38,
     "metadata": {},
     "output_type": "execute_result"
    }
   ],
   "source": [
    "import unittest\n",
    "\n",
    "class TestFunciones(unittest.TestCase):\n",
    "\n",
    "    def test_creacion_fallida(self):\n",
    "        param = [\"Javier\"]\n",
    "        self.assertRaises(ValueError, f.Funciones, param)\n",
    "\n",
    "    def test_creacion_correcta(self):\n",
    "        param = [1,2,3,4]\n",
    "        func =f.Funciones(param)\n",
    "        self.assertEqual(func.lista, param)\n",
    "\n",
    "    def test_moda(self):\n",
    "        param = [1,2,3,4,1]\n",
    "        func =f.Funciones()\n",
    "        self.assertEqual((1, 2), func.moda(param))\n",
    "\n",
    "    def test_primos(self):\n",
    "        func =f.Funciones()\n",
    "        self.assertEqual(func.es_primo(13), True)\n",
    "\n",
    "    def test_conversion(self):\n",
    "        func =f.Funciones()\n",
    "        valor_celsius = 36\n",
    "        valor_fahrenheit = 98\n",
    "\n",
    "        self.assertEqual(96.8, func.conversion(valor_celsius))\n",
    "        self.assertEqual(-40, func.conversion(-40))\n",
    "\n",
    "    def test_factorial(self):\n",
    "        func =f.Funciones()\n",
    "        enteros = [2,3,4,5,6,7,8,9,10]\n",
    "        factorials = [1, 1, 2, 6, 24, 120, 720, 5040, 40320, 362880]\n",
    "\n",
    "        for i in enteros:\n",
    "            self.assertEqual(factorials[i-1], func.factorial(i-1))\n",
    "        \n",
    "\n",
    "unittest.main(argv=[''], verbosity=2, exit=False)\n"
   ]
  }
 ],
 "metadata": {
  "interpreter": {
   "hash": "c85384e4cb51c8b72350f3a8712cc8351fdc3955e32a27f9b60c6242ab125f01"
  },
  "kernelspec": {
   "display_name": "Python 3 (ipykernel)",
   "language": "python",
   "name": "python3"
  },
  "language_info": {
   "codemirror_mode": {
    "name": "ipython",
    "version": 3
   },
   "file_extension": ".py",
   "mimetype": "text/x-python",
   "name": "python",
   "nbconvert_exporter": "python",
   "pygments_lexer": "ipython3",
   "version": "3.11.4"
  }
 },
 "nbformat": 4,
 "nbformat_minor": 4
}
