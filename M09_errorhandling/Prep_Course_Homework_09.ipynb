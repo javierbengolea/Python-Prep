{
 "cells": [
  {
   "attachments": {},
   "cell_type": "markdown",
   "metadata": {},
   "source": [
    "## Manejo de errores"
   ]
  },
  {
   "attachments": {},
   "cell_type": "markdown",
   "metadata": {},
   "source": [
    "1) Con la clase creada en el módulo 7, tener en cuenta diferentes casos en que el código pudiera arrojar error. Por ejemplo, en la creación del objeto recibimos una lista de números enteros pero ¿qué pasa si se envía otro tipo de dato?"
   ]
  },
  {
   "cell_type": "code",
   "execution_count": 3,
   "metadata": {},
   "outputs": [
    {
     "name": "stdout",
     "output_type": "stream",
     "text": [
      "\n"
     ]
    }
   ],
   "source": [
    "import os\n",
    "import sys\n",
    "\n",
    "dir_actual = os.getcwd()\n",
    "sys.path.append(dir_actual)\n",
    "\n",
    "print()"
   ]
  },
  {
   "cell_type": "code",
   "execution_count": 4,
   "metadata": {},
   "outputs": [
    {
     "name": "stdout",
     "output_type": "stream",
     "text": [
      "<module 'funciones' from 'h:\\\\cursos_online\\\\henry\\\\data-science\\\\Python-Prep\\\\M09_errorhandling\\\\funciones.py'>\n"
     ]
    }
   ],
   "source": [
    "import funciones as f\n",
    "\n",
    "print(f)"
   ]
  },
  {
   "cell_type": "code",
   "execution_count": 7,
   "metadata": {},
   "outputs": [
    {
     "ename": "ValueError",
     "evalue": "Elemento no entero en la lista: u",
     "output_type": "error",
     "traceback": [
      "\u001b[1;31m---------------------------------------------------------------------------\u001b[0m",
      "\u001b[1;31mValueError\u001b[0m                                Traceback (most recent call last)",
      "Cell \u001b[1;32mIn[7], line 1\u001b[0m\n\u001b[1;32m----> 1\u001b[0m f\u001b[39m.\u001b[39;49mFunciones([\u001b[39m1\u001b[39;49m,\u001b[39m2\u001b[39;49m,\u001b[39m3\u001b[39;49m,\u001b[39m'\u001b[39;49m\u001b[39mu\u001b[39;49m\u001b[39m'\u001b[39;49m,\u001b[39m1\u001b[39;49m])\n",
      "File \u001b[1;32mh:\\cursos_online\\henry\\data-science\\Python-Prep\\M09_errorhandling\\funciones.py:9\u001b[0m, in \u001b[0;36mFunciones.__init__\u001b[1;34m(self, lista)\u001b[0m\n\u001b[0;32m      7\u001b[0m \u001b[39mfor\u001b[39;00m i \u001b[39min\u001b[39;00m lista:\n\u001b[0;32m      8\u001b[0m     \u001b[39mif\u001b[39;00m \u001b[39mtype\u001b[39m(i) \u001b[39m!=\u001b[39m \u001b[39mint\u001b[39m:\n\u001b[1;32m----> 9\u001b[0m         \u001b[39mraise\u001b[39;00m \u001b[39mValueError\u001b[39;00m(\u001b[39mf\u001b[39m\u001b[39m\"\u001b[39m\u001b[39mElemento no entero en la lista: \u001b[39m\u001b[39m{\u001b[39;00mi\u001b[39m}\u001b[39;00m\u001b[39m\"\u001b[39m)\n",
      "\u001b[1;31mValueError\u001b[0m: Elemento no entero en la lista: u"
     ]
    }
   ],
   "source": [
    "f.Funciones([1,2,3,'u',1])"
   ]
  },
  {
   "attachments": {},
   "cell_type": "markdown",
   "metadata": {},
   "source": [
    "2) En la función que hace la conversión de grados, validar que los parámetros enviados sean los esperados, de no serlo, informar cuáles son los valores esperados."
   ]
  },
  {
   "cell_type": "code",
   "execution_count": 15,
   "metadata": {},
   "outputs": [
    {
     "ename": "ValueError",
     "evalue": "Error, medida incorrecta!!! Javier, valores esperados: ['Celsius', 'Fahrenheit', 'Kelvin']",
     "output_type": "error",
     "traceback": [
      "\u001b[1;31m---------------------------------------------------------------------------\u001b[0m",
      "\u001b[1;31mValueError\u001b[0m                                Traceback (most recent call last)",
      "Cell \u001b[1;32mIn[15], line 6\u001b[0m\n\u001b[0;32m      3\u001b[0m importlib\u001b[39m.\u001b[39mreload(f)\n\u001b[0;32m      5\u001b[0m func \u001b[39m=\u001b[39m f\u001b[39m.\u001b[39mFunciones()\n\u001b[1;32m----> 6\u001b[0m func\u001b[39m.\u001b[39;49mconversion(\u001b[39m2\u001b[39;49m, \u001b[39m\"\u001b[39;49m\u001b[39mJavier\u001b[39;49m\u001b[39m\"\u001b[39;49m)\n",
      "File \u001b[1;32mh:\\cursos_online\\henry\\data-science\\Python-Prep\\M09_errorhandling\\funciones.py:45\u001b[0m, in \u001b[0;36mFunciones.conversion\u001b[1;34m(self, t, de, a)\u001b[0m\n\u001b[0;32m     42\u001b[0m grados \u001b[39m=\u001b[39m [\u001b[39m\"\u001b[39m\u001b[39mCelsius\u001b[39m\u001b[39m\"\u001b[39m, \u001b[39m\"\u001b[39m\u001b[39mFahrenheit\u001b[39m\u001b[39m\"\u001b[39m, \u001b[39m\"\u001b[39m\u001b[39mKelvin\u001b[39m\u001b[39m\"\u001b[39m]\n\u001b[0;32m     44\u001b[0m \u001b[39mif\u001b[39;00m de \u001b[39mnot\u001b[39;00m \u001b[39min\u001b[39;00m grados:\n\u001b[1;32m---> 45\u001b[0m     \u001b[39mraise\u001b[39;00m \u001b[39mValueError\u001b[39;00m(\u001b[39mf\u001b[39m\u001b[39m\"\u001b[39m\u001b[39mError, medida incorrecta!!! \u001b[39m\u001b[39m{\u001b[39;00mde\u001b[39m}\u001b[39;00m\u001b[39m, valores esperados: \u001b[39m\u001b[39m{\u001b[39;00mgrados\u001b[39m}\u001b[39;00m\u001b[39m\"\u001b[39m)\n\u001b[0;32m     47\u001b[0m \u001b[39mif\u001b[39;00m a \u001b[39mnot\u001b[39;00m \u001b[39min\u001b[39;00m grados:\n\u001b[0;32m     48\u001b[0m     \u001b[39mraise\u001b[39;00m \u001b[39mValueError\u001b[39;00m(\u001b[39mf\u001b[39m\u001b[39m\"\u001b[39m\u001b[39mError, medida incorrecta!!! \u001b[39m\u001b[39m{\u001b[39;00ma\u001b[39m}\u001b[39;00m\u001b[39m, valores esperados: \u001b[39m\u001b[39m{\u001b[39;00mgrados\u001b[39m}\u001b[39;00m\u001b[39m\"\u001b[39m)\n",
      "\u001b[1;31mValueError\u001b[0m: Error, medida incorrecta!!! Javier, valores esperados: ['Celsius', 'Fahrenheit', 'Kelvin']"
     ]
    }
   ],
   "source": [
    "import importlib\n",
    "\n",
    "importlib.reload(f)\n",
    "\n",
    "func = f.Funciones()\n",
    "func.conversion(2, \"Javier\")\n"
   ]
  },
  {
   "attachments": {},
   "cell_type": "markdown",
   "metadata": {},
   "source": [
    "3) Importar el modulo \"unittest\" y crear los siguientes casos de pruebas sobre la clase utilizada en el punto 2<br>\n",
    "Creacion del objeto incorrecta<br>\n",
    "Creacion correcta del objeto<br>\n",
    "Metodo valor_modal()<br>\n",
    "\n",
    "Se puede usar \"raise ValueError()\" en la creación de la clase para verificar el error. Investigar sobre esta funcionalidad."
   ]
  },
  {
   "cell_type": "code",
   "execution_count": null,
   "metadata": {},
   "outputs": [],
   "source": []
  },
  {
   "attachments": {},
   "cell_type": "markdown",
   "metadata": {},
   "source": [
    "4) Probar una creación incorrecta y visualizar la salida del \"raise\""
   ]
  },
  {
   "cell_type": "code",
   "execution_count": null,
   "metadata": {},
   "outputs": [],
   "source": []
  },
  {
   "attachments": {},
   "cell_type": "markdown",
   "metadata": {},
   "source": [
    "6) Agregar casos de pruebas para el método verifica_primos() realizando el cambio en la clase, para que devuelva una lista de True o False en función de que el elemento en la posisicón sea o no primo"
   ]
  },
  {
   "cell_type": "code",
   "execution_count": null,
   "metadata": {},
   "outputs": [],
   "source": []
  },
  {
   "attachments": {},
   "cell_type": "markdown",
   "metadata": {},
   "source": [
    "7) Agregar casos de pruebas para el método conversion_grados()"
   ]
  },
  {
   "cell_type": "code",
   "execution_count": null,
   "metadata": {},
   "outputs": [],
   "source": []
  },
  {
   "attachments": {},
   "cell_type": "markdown",
   "metadata": {},
   "source": [
    "8) Agregar casos de pruebas para el método factorial()"
   ]
  },
  {
   "cell_type": "code",
   "execution_count": null,
   "metadata": {},
   "outputs": [],
   "source": []
  }
 ],
 "metadata": {
  "interpreter": {
   "hash": "c85384e4cb51c8b72350f3a8712cc8351fdc3955e32a27f9b60c6242ab125f01"
  },
  "kernelspec": {
   "display_name": "Python 3 (ipykernel)",
   "language": "python",
   "name": "python3"
  },
  "language_info": {
   "codemirror_mode": {
    "name": "ipython",
    "version": 3
   },
   "file_extension": ".py",
   "mimetype": "text/x-python",
   "name": "python",
   "nbconvert_exporter": "python",
   "pygments_lexer": "ipython3",
   "version": "3.11.4"
  }
 },
 "nbformat": 4,
 "nbformat_minor": 4
}
