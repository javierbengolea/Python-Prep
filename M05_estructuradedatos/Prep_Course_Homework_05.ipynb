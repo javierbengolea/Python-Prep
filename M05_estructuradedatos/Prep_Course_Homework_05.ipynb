{
 "cells": [
  {
   "attachments": {},
   "cell_type": "markdown",
   "metadata": {},
   "source": [
    "## Estructuras de Datos"
   ]
  },
  {
   "attachments": {},
   "cell_type": "markdown",
   "metadata": {},
   "source": [
    "1) Crear una lista que contenga nombres de ciudades del mundo que contenga más de 5 elementos e imprimir por pantalla"
   ]
  },
  {
   "cell_type": "code",
   "execution_count": 1,
   "metadata": {},
   "outputs": [
    {
     "name": "stdout",
     "output_type": "stream",
     "text": [
      "Tokio\n",
      "Nairobi\n",
      "Denver\n",
      "Helsinki\n",
      "Berlín\n"
     ]
    }
   ],
   "source": [
    "ciudades = [\"Tokio\", \"Nairobi\", \"Denver\", \"Helsinki\", \"Berlín\"]\n",
    "\n",
    "for ciudad in ciudades:\n",
    "    print(ciudad)"
   ]
  },
  {
   "attachments": {},
   "cell_type": "markdown",
   "metadata": {},
   "source": [
    "2) Imprimir por pantalla el segundo elemento de la lista"
   ]
  },
  {
   "cell_type": "code",
   "execution_count": 2,
   "metadata": {},
   "outputs": [
    {
     "name": "stdout",
     "output_type": "stream",
     "text": [
      "Nairobi\n"
     ]
    }
   ],
   "source": [
    "print(ciudades[1])"
   ]
  },
  {
   "attachments": {},
   "cell_type": "markdown",
   "metadata": {},
   "source": [
    "3) Imprimir por pantalla del segundo al cuarto elemento"
   ]
  },
  {
   "cell_type": "code",
   "execution_count": 3,
   "metadata": {},
   "outputs": [
    {
     "name": "stdout",
     "output_type": "stream",
     "text": [
      "['Nairobi', 'Denver', 'Helsinki']\n"
     ]
    }
   ],
   "source": [
    "print(ciudades[1:4])"
   ]
  },
  {
   "attachments": {},
   "cell_type": "markdown",
   "metadata": {},
   "source": [
    "4) Visualizar el tipo de dato de la lista"
   ]
  },
  {
   "cell_type": "code",
   "execution_count": 4,
   "metadata": {},
   "outputs": [
    {
     "data": {
      "text/plain": [
       "str"
      ]
     },
     "execution_count": 4,
     "metadata": {},
     "output_type": "execute_result"
    }
   ],
   "source": [
    "type(ciudades[0])"
   ]
  },
  {
   "attachments": {},
   "cell_type": "markdown",
   "metadata": {},
   "source": [
    "5) Visualizar todos los elementos de la lista a partir del tercero de manera genérica, es decir, sin explicitar la posición del último elemento"
   ]
  },
  {
   "cell_type": "code",
   "execution_count": 5,
   "metadata": {},
   "outputs": [
    {
     "name": "stdout",
     "output_type": "stream",
     "text": [
      "Denver\n",
      "Helsinki\n",
      "Berlín\n"
     ]
    }
   ],
   "source": [
    "for i in range(2,len(ciudades)):\n",
    "    print(ciudades[i])"
   ]
  },
  {
   "attachments": {},
   "cell_type": "markdown",
   "metadata": {},
   "source": [
    "6) Visualizar los primeros 4 elementos de la lista"
   ]
  },
  {
   "cell_type": "code",
   "execution_count": 6,
   "metadata": {},
   "outputs": [
    {
     "name": "stdout",
     "output_type": "stream",
     "text": [
      "['Tokio', 'Nairobi', 'Denver', 'Helsinki']\n"
     ]
    }
   ],
   "source": [
    "print(ciudades[:4])"
   ]
  },
  {
   "attachments": {},
   "cell_type": "markdown",
   "metadata": {},
   "source": [
    "7) Agregar una ciudad más a la lista que ya exista y otra que no ¿Arroja algún tipo de error?"
   ]
  },
  {
   "cell_type": "code",
   "execution_count": 7,
   "metadata": {},
   "outputs": [
    {
     "name": "stdout",
     "output_type": "stream",
     "text": [
      "['Tokio', 'Nairobi', 'Denver', 'Helsinki', 'Berlín', 'Córdoba', 'Berlín']\n"
     ]
    }
   ],
   "source": [
    "ciudades.append(\"Córdoba\")\n",
    "ciudades.append(\"Berlín\")\n",
    "\n",
    "print(ciudades)"
   ]
  },
  {
   "attachments": {},
   "cell_type": "markdown",
   "metadata": {},
   "source": [
    "8) Agregar otra ciudad, pero en la cuarta posición"
   ]
  },
  {
   "cell_type": "code",
   "execution_count": 8,
   "metadata": {},
   "outputs": [
    {
     "name": "stdout",
     "output_type": "stream",
     "text": [
      "['Tokio', 'Nairobi', 'Denver', 'Helsinki', 'Berlín', 'Córdoba', 'Berlín']\n"
     ]
    }
   ],
   "source": [
    "# ciudades.insert(3, 'Miami')\n",
    "print(ciudades)"
   ]
  },
  {
   "attachments": {},
   "cell_type": "markdown",
   "metadata": {},
   "source": [
    "9) Concatenar otra lista a la ya creada"
   ]
  },
  {
   "cell_type": "code",
   "execution_count": 9,
   "metadata": {},
   "outputs": [
    {
     "name": "stdout",
     "output_type": "stream",
     "text": [
      "['Tokio', 'Nairobi', 'Denver', 'Helsinki', 'Berlín', 'Córdoba', 'Berlín', 'Brasilia', 'Vancouver', 'Oslo', 'Nueva Dheli']\n"
     ]
    }
   ],
   "source": [
    "ciudades_2 = ['Brasilia', 'Vancouver', 'Oslo', 'Nueva Dheli']\n",
    "\n",
    "ciudades.extend(ciudades_2)\n",
    "\n",
    "print(ciudades)"
   ]
  },
  {
   "attachments": {},
   "cell_type": "markdown",
   "metadata": {},
   "source": [
    "10) Encontrar el índice de la ciudad que en el punto 7 agregamos duplicada. ¿Se nota alguna particularidad?"
   ]
  },
  {
   "cell_type": "code",
   "execution_count": 10,
   "metadata": {},
   "outputs": [
    {
     "name": "stdout",
     "output_type": "stream",
     "text": [
      "4\n"
     ]
    }
   ],
   "source": [
    "# temp = {}\n",
    "\n",
    "# for i, ciudad in enumerate(ciudades):\n",
    "#     if ciudad in temp:\n",
    "#         temp[ciudad] += 1\n",
    "#         print(f\"Repetición: {ciudad}, {i}\")\n",
    "#     else:\n",
    "#         temp[ciudad] = 1\n",
    "\n",
    "# print(temp)\n",
    "\n",
    "print(ciudades.index('Berlín'))"
   ]
  },
  {
   "attachments": {},
   "cell_type": "markdown",
   "metadata": {},
   "source": [
    "11) ¿Qué pasa si se busca un elemento que no existe?"
   ]
  },
  {
   "cell_type": "code",
   "execution_count": 11,
   "metadata": {},
   "outputs": [
    {
     "ename": "ValueError",
     "evalue": "'Bruselas' is not in list",
     "output_type": "error",
     "traceback": [
      "\u001b[1;31m---------------------------------------------------------------------------\u001b[0m",
      "\u001b[1;31mValueError\u001b[0m                                Traceback (most recent call last)",
      "\u001b[1;32mh:\\cursos_online\\henry\\data-science\\Python-Prep\\M05_estructuradedatos\\Prep_Course_Homework_05.ipynb Celda 23\u001b[0m in \u001b[0;36m1\n\u001b[1;32m----> <a href='vscode-notebook-cell:/h%3A/cursos_online/henry/data-science/Python-Prep/M05_estructuradedatos/Prep_Course_Homework_05.ipynb#X31sZmlsZQ%3D%3D?line=0'>1</a>\u001b[0m \u001b[39mprint\u001b[39m(ciudades\u001b[39m.\u001b[39;49mindex(\u001b[39m'\u001b[39;49m\u001b[39mBruselas\u001b[39;49m\u001b[39m'\u001b[39;49m))\n",
      "\u001b[1;31mValueError\u001b[0m: 'Bruselas' is not in list"
     ]
    }
   ],
   "source": [
    "print(ciudades.index('Bruselas'))"
   ]
  },
  {
   "attachments": {},
   "cell_type": "markdown",
   "metadata": {},
   "source": [
    "12) Eliminar un elemento de la lista"
   ]
  },
  {
   "cell_type": "code",
   "execution_count": null,
   "metadata": {},
   "outputs": [
    {
     "name": "stdout",
     "output_type": "stream",
     "text": [
      "['Tokio', 'Nairobi', 'Denver', 'Miami', 'Helsinki', 'Berlín', 'Córdoba', 'Berlín', 'Brasilia', 'Vancouver', 'Oslo', 'Nueva Dheli']\n",
      "['Tokio', 'Nairobi', 'Denver', 'Miami', 'Helsinki', 'Berlín', 'Córdoba', 'Berlín', 'Brasilia', 'Vancouver', 'Nueva Dheli']\n"
     ]
    }
   ],
   "source": [
    "back = ciudades\n",
    "print(ciudades)\n",
    "ciudades.remove('Oslo')\n",
    "\n",
    "print(ciudades)"
   ]
  },
  {
   "attachments": {},
   "cell_type": "markdown",
   "metadata": {},
   "source": [
    "13) ¿Qué pasa si el elemento a eliminar no existe?"
   ]
  },
  {
   "cell_type": "code",
   "execution_count": null,
   "metadata": {},
   "outputs": [
    {
     "ename": "ValueError",
     "evalue": "list.remove(x): x not in list",
     "output_type": "error",
     "traceback": [
      "\u001b[1;31m---------------------------------------------------------------------------\u001b[0m",
      "\u001b[1;31mValueError\u001b[0m                                Traceback (most recent call last)",
      "\u001b[1;32mh:\\cursos_online\\henry\\data-science\\Python-Prep\\M05_estructuradedatos\\Prep_Course_Homework_05.ipynb Celda 27\u001b[0m in \u001b[0;36m1\n\u001b[1;32m----> <a href='vscode-notebook-cell:/h%3A/cursos_online/henry/data-science/Python-Prep/M05_estructuradedatos/Prep_Course_Homework_05.ipynb#X35sZmlsZQ%3D%3D?line=0'>1</a>\u001b[0m \u001b[39mprint\u001b[39m(ciudades\u001b[39m.\u001b[39;49mremove(\u001b[39m'\u001b[39;49m\u001b[39mSanto Domingo\u001b[39;49m\u001b[39m'\u001b[39;49m))\n",
      "\u001b[1;31mValueError\u001b[0m: list.remove(x): x not in list"
     ]
    }
   ],
   "source": [
    "print(ciudades.remove('Santo Domingo'))"
   ]
  },
  {
   "attachments": {},
   "cell_type": "markdown",
   "metadata": {},
   "source": [
    "14) Extraer el úlimo elemento de la lista, guardarlo en una variable e imprimirlo"
   ]
  },
  {
   "cell_type": "code",
   "execution_count": null,
   "metadata": {},
   "outputs": [
    {
     "name": "stdout",
     "output_type": "stream",
     "text": [
      "Nueva Dheli\n"
     ]
    }
   ],
   "source": [
    "ultimo = ciudades.pop()\n",
    "\n",
    "print(ultimo)"
   ]
  },
  {
   "attachments": {},
   "cell_type": "markdown",
   "metadata": {},
   "source": [
    "15) Mostrar la lista multiplicada por 4"
   ]
  },
  {
   "cell_type": "code",
   "execution_count": null,
   "metadata": {},
   "outputs": [
    {
     "name": "stdout",
     "output_type": "stream",
     "text": [
      "['Tokio', 'Nairobi', 'Denver', 'Miami', 'Helsinki', 'Berlín', 'Córdoba', 'Berlín', 'Brasilia', 'Vancouver', 'Tokio', 'Nairobi', 'Denver', 'Miami', 'Helsinki', 'Berlín', 'Córdoba', 'Berlín', 'Brasilia', 'Vancouver', 'Tokio', 'Nairobi', 'Denver', 'Miami', 'Helsinki', 'Berlín', 'Córdoba', 'Berlín', 'Brasilia', 'Vancouver', 'Tokio', 'Nairobi', 'Denver', 'Miami', 'Helsinki', 'Berlín', 'Córdoba', 'Berlín', 'Brasilia', 'Vancouver']\n"
     ]
    }
   ],
   "source": [
    "print(ciudades*4)"
   ]
  },
  {
   "attachments": {},
   "cell_type": "markdown",
   "metadata": {},
   "source": [
    "16) Crear una tupla que contenga los números enteros del 1 al 20"
   ]
  },
  {
   "cell_type": "code",
   "execution_count": null,
   "metadata": {},
   "outputs": [
    {
     "name": "stdout",
     "output_type": "stream",
     "text": [
      "(1, 2, 3, 4, 5, 6, 7, 8, 9, 10, 11, 12, 13, 14, 15, 16, 17, 18, 19, 20)\n"
     ]
    }
   ],
   "source": [
    "lista = []\n",
    "\n",
    "for i in range(20):\n",
    "    lista.append(i+1)\n",
    "\n",
    "tupla = tuple(lista)\n",
    "\n",
    "print(tupla)"
   ]
  },
  {
   "attachments": {},
   "cell_type": "markdown",
   "metadata": {},
   "source": [
    "17) Imprimir desde el índice 10 al 15 de la tupla"
   ]
  },
  {
   "cell_type": "code",
   "execution_count": null,
   "metadata": {},
   "outputs": [
    {
     "name": "stdout",
     "output_type": "stream",
     "text": [
      "(11, 12, 13, 14, 15, 16)\n"
     ]
    }
   ],
   "source": [
    "print(tupla[10:16])"
   ]
  },
  {
   "attachments": {},
   "cell_type": "markdown",
   "metadata": {},
   "source": [
    "18) Evaluar si los números 20 y 30 están dentro de la tupla"
   ]
  },
  {
   "cell_type": "code",
   "execution_count": null,
   "metadata": {},
   "outputs": [
    {
     "name": "stdout",
     "output_type": "stream",
     "text": [
      "True False\n"
     ]
    }
   ],
   "source": [
    "print(20 in tupla, 30 in tupla)"
   ]
  },
  {
   "attachments": {},
   "cell_type": "markdown",
   "metadata": {},
   "source": [
    "19) Con la lista creada en el punto 1, validar la existencia del elemento 'París' y si no existe, agregarlo. Utilizar una variable e informar lo sucedido."
   ]
  },
  {
   "cell_type": "code",
   "execution_count": null,
   "metadata": {},
   "outputs": [
    {
     "name": "stdout",
     "output_type": "stream",
     "text": [
      "La ciudad de París no está en la lista\n",
      "['Tokio', 'Nairobi', 'Denver', 'Miami', 'Helsinki', 'Berlín', 'Córdoba', 'Berlín', 'Brasilia', 'Vancouver', 'París']\n"
     ]
    }
   ],
   "source": [
    "encontrada = \"París\" in ciudades\n",
    "\n",
    "if encontrada:\n",
    "    print(\"La ciudad de París está en la lista\")\n",
    "else:\n",
    "    print(\"La ciudad de París no está en la lista\")\n",
    "    ciudades.append(\"París\")\n",
    "\n",
    "print(ciudades)"
   ]
  },
  {
   "attachments": {},
   "cell_type": "markdown",
   "metadata": {},
   "source": [
    "20) Mostrar la cantidad de veces que se encuentra un elemento específico dentro de la tupla y de la lista"
   ]
  },
  {
   "cell_type": "code",
   "execution_count": null,
   "metadata": {},
   "outputs": [
    {
     "name": "stdout",
     "output_type": "stream",
     "text": [
      "En lista ciudades Berlín:  2\n",
      "En tupla ciudades Berlín:  2\n"
     ]
    }
   ],
   "source": [
    "tupla_ciudades = tuple(ciudades)\n",
    "ciudad_prueba = \"Berlín\"\n",
    "print(f\"En lista ciudades {ciudad_prueba}:  {ciudades.count(ciudad_prueba)}\")\n",
    "print(f\"En tupla ciudades {ciudad_prueba}:  {tupla_ciudades.count(ciudad_prueba)}\")\n",
    "# tupla_ciudades.count('Berlín')"
   ]
  },
  {
   "attachments": {},
   "cell_type": "markdown",
   "metadata": {},
   "source": [
    "21) Convertir la tupla en una lista"
   ]
  },
  {
   "cell_type": "code",
   "execution_count": null,
   "metadata": {},
   "outputs": [
    {
     "name": "stdout",
     "output_type": "stream",
     "text": [
      "['Tokio', 'Nairobi', 'Denver', 'Miami', 'Helsinki', 'Berlín', 'Córdoba', 'Berlín', 'Brasilia', 'Vancouver', 'París', 'Tokio', 'Nairobi', 'Denver', 'Miami', 'Helsinki', 'Berlín', 'Córdoba', 'Berlín', 'Brasilia', 'Vancouver', 'París']\n"
     ]
    }
   ],
   "source": [
    "print(list(tupla_ciudades))"
   ]
  },
  {
   "attachments": {},
   "cell_type": "markdown",
   "metadata": {},
   "source": [
    "22) Desempaquetar solo los primeros 3 elementos de la tupla en 3 variables"
   ]
  },
  {
   "cell_type": "code",
   "execution_count": null,
   "metadata": {},
   "outputs": [
    {
     "name": "stdout",
     "output_type": "stream",
     "text": [
      "Tokio Nairobi Denver\n"
     ]
    }
   ],
   "source": [
    "ciudad_1, ciudad_2, ciudad_3, _, _, _, _, _, _, _, _, = tupla_ciudades\n",
    "\n",
    "print(ciudad_1, ciudad_2, ciudad_3)"
   ]
  },
  {
   "attachments": {},
   "cell_type": "markdown",
   "metadata": {},
   "source": [
    "23) Crear un diccionario utilizando la lista crada en el punto 1, asignandole la clave \"ciudad\". Agregar tambien otras claves, como puede ser \"Pais\" y \"Continente\"."
   ]
  },
  {
   "cell_type": "code",
   "execution_count": null,
   "metadata": {},
   "outputs": [
    {
     "name": "stdout",
     "output_type": "stream",
     "text": [
      "{'ciudad': ['Tokio', 'Nairobi', 'Denver', 'Miami', 'Helsinki', 'Berlín', 'Córdoba', 'Berlín', 'Brasilia', 'Vancouver', 'París'], 'pais': ['Argentina', 'Brasil', 'Chile', 'Colombia', 'Ecuador', 'Peru', 'Uruguay'], 'continente': ['America', 'Europa', 'Africa']}\n"
     ]
    }
   ],
   "source": [
    "pais = ['Argentina', 'Brasil', 'Chile', 'Colombia', 'Ecuador', 'Peru', 'Uruguay']\n",
    "continente = ['America', 'Europa', 'Africa']\n",
    "mapa = {'ciudad': ciudades, 'pais': pais, 'continente': continente}\n",
    "print(mapa)"
   ]
  },
  {
   "attachments": {},
   "cell_type": "markdown",
   "metadata": {},
   "source": [
    "24) Imprimir las claves del diccionario"
   ]
  },
  {
   "cell_type": "code",
   "execution_count": null,
   "metadata": {},
   "outputs": [
    {
     "name": "stdout",
     "output_type": "stream",
     "text": [
      "dict_keys(['ciudad', 'pais', 'continente'])\n"
     ]
    }
   ],
   "source": [
    "print(mapa.keys())"
   ]
  },
  {
   "attachments": {},
   "cell_type": "markdown",
   "metadata": {},
   "source": [
    "25) Imprimir las ciudades a través de su clave"
   ]
  },
  {
   "cell_type": "code",
   "execution_count": null,
   "metadata": {},
   "outputs": [
    {
     "name": "stdout",
     "output_type": "stream",
     "text": [
      "['Tokio', 'Nairobi', 'Denver', 'Miami', 'Helsinki', 'Berlín', 'Córdoba', 'Berlín', 'Brasilia', 'Vancouver', 'París']\n"
     ]
    }
   ],
   "source": [
    "print(mapa['ciudad'])"
   ]
  }
 ],
 "metadata": {
  "interpreter": {
   "hash": "c85384e4cb51c8b72350f3a8712cc8351fdc3955e32a27f9b60c6242ab125f01"
  },
  "kernelspec": {
   "display_name": "Python 3 (ipykernel)",
   "language": "python",
   "name": "python3"
  },
  "language_info": {
   "codemirror_mode": {
    "name": "ipython",
    "version": 3
   },
   "file_extension": ".py",
   "mimetype": "text/x-python",
   "name": "python",
   "nbconvert_exporter": "python",
   "pygments_lexer": "ipython3",
   "version": "3.11.4"
  }
 },
 "nbformat": 4,
 "nbformat_minor": 4
}
