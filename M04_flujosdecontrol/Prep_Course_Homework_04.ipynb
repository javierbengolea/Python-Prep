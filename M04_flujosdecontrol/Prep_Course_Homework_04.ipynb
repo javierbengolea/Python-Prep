{
 "cells": [
  {
   "attachments": {},
   "cell_type": "markdown",
   "metadata": {},
   "source": [
    "## Flujos de Control"
   ]
  },
  {
   "attachments": {},
   "cell_type": "markdown",
   "metadata": {},
   "source": [
    "1) Crear una variable que contenga un elemento del conjunto de números enteros y luego imprimir por pantalla si es mayor o menor a cero"
   ]
  },
  {
   "cell_type": "code",
   "execution_count": 1,
   "metadata": {},
   "outputs": [
    {
     "name": "stdout",
     "output_type": "stream",
     "text": [
      "n = -33\n",
      "Menor que cero\n"
     ]
    }
   ],
   "source": [
    "import random\n",
    "\n",
    "n = random.randint(-50,50)\n",
    "print(f\"n = {n}\")\n",
    "\n",
    "if n < 0:\n",
    "    print(\"Menor que cero\")\n",
    "elif n > 0:\n",
    "    print(\"Mayor que cero\")\n",
    "else:\n",
    "    print(\"Igual a cero\")"
   ]
  },
  {
   "attachments": {},
   "cell_type": "markdown",
   "metadata": {},
   "source": [
    "2) Crear dos variables y un condicional que informe si son del mismo tipo de dato"
   ]
  },
  {
   "cell_type": "code",
   "execution_count": 2,
   "metadata": {},
   "outputs": [
    {
     "name": "stdout",
     "output_type": "stream",
     "text": [
      "2.1 2.1 Son de diferentes tipos\n"
     ]
    }
   ],
   "source": [
    "var1 = \"2.1\"\n",
    "var2 = 2.1\n",
    "\n",
    "if type(var1) == type(var2):\n",
    "    print(var1, var2, \"Son del mismo tipo\")\n",
    "else:\n",
    "    print(var1, var2, \"Son de diferentes tipos\")"
   ]
  },
  {
   "attachments": {},
   "cell_type": "markdown",
   "metadata": {},
   "source": [
    "3) Para los valores enteros del 1 al 20, imprimir por pantalla si es par o impar"
   ]
  },
  {
   "cell_type": "code",
   "execution_count": 3,
   "metadata": {},
   "outputs": [
    {
     "name": "stdout",
     "output_type": "stream",
     "text": [
      "2 es par\n",
      "4 es par\n",
      "6 es par\n",
      "8 es par\n",
      "10 es par\n",
      "12 es par\n",
      "14 es par\n",
      "16 es par\n",
      "18 es par\n",
      "20 es par\n"
     ]
    }
   ],
   "source": [
    "for i in range(1,21):\n",
    "    if i % 2 == 0:\n",
    "        print(f\"{i} es par\")"
   ]
  },
  {
   "attachments": {},
   "cell_type": "markdown",
   "metadata": {},
   "source": [
    "4) En un ciclo for mostrar para los valores entre 0 y 5 el resultado de elevarlo a la potencia igual a 3"
   ]
  },
  {
   "cell_type": "code",
   "execution_count": 4,
   "metadata": {},
   "outputs": [
    {
     "name": "stdout",
     "output_type": "stream",
     "text": [
      "1 al cubo: 1\n",
      "2 al cubo: 8\n",
      "3 al cubo: 27\n",
      "4 al cubo: 64\n",
      "5 al cubo: 125\n"
     ]
    }
   ],
   "source": [
    "for i in range(1, 6):\n",
    "    print(f\"{i} al cubo: {i**3}\")"
   ]
  },
  {
   "attachments": {},
   "cell_type": "markdown",
   "metadata": {},
   "source": [
    "5) Crear una variable que contenga un número entero y realizar un ciclo for la misma cantidad de ciclos"
   ]
  },
  {
   "cell_type": "code",
   "execution_count": 5,
   "metadata": {},
   "outputs": [
    {
     "name": "stdout",
     "output_type": "stream",
     "text": [
      "1\n",
      "2\n",
      "3\n",
      "4\n",
      "5\n"
     ]
    }
   ],
   "source": [
    "count = 5\n",
    "\n",
    "for i in range(count):\n",
    "    print(i+1)"
   ]
  },
  {
   "attachments": {},
   "cell_type": "markdown",
   "metadata": {},
   "source": [
    "6) Utilizar un ciclo while para realizar el factorial de un número guardado en una variable, sólo si la variable contiene un número entero mayor a 0"
   ]
  },
  {
   "cell_type": "code",
   "execution_count": 6,
   "metadata": {},
   "outputs": [
    {
     "name": "stdout",
     "output_type": "stream",
     "text": [
      "1307674368000\n"
     ]
    }
   ],
   "source": [
    "n = 15\n",
    "fact = 1\n",
    "\n",
    "while n > 0:\n",
    "    fact *= n\n",
    "    n-=1\n",
    "\n",
    "print(fact)"
   ]
  },
  {
   "attachments": {},
   "cell_type": "markdown",
   "metadata": {},
   "source": [
    "7) Crear un ciclo for dentro de un ciclo while"
   ]
  },
  {
   "cell_type": "code",
   "execution_count": 7,
   "metadata": {},
   "outputs": [
    {
     "name": "stdout",
     "output_type": "stream",
     "text": [
      "1 2 3 4 5 6 7 8 9 10 \n",
      "1 2 3 4 5 6 7 8 9 10 \n",
      "1 2 3 4 5 6 7 8 9 10 \n",
      "1 2 3 4 5 6 7 8 9 10 \n",
      "1 2 3 4 5 6 7 8 9 10 \n"
     ]
    }
   ],
   "source": [
    "n = 5\n",
    "n2 = 10\n",
    "\n",
    "while n > 0:\n",
    "    for i in range(1, n2 + 1):\n",
    "        print(i, end=\" \")\n",
    "    n -= 1\n",
    "    print()\n"
   ]
  },
  {
   "attachments": {},
   "cell_type": "markdown",
   "metadata": {},
   "source": [
    "8) Crear un ciclo while dentro de un ciclo for"
   ]
  },
  {
   "cell_type": "code",
   "execution_count": 8,
   "metadata": {},
   "outputs": [
    {
     "name": "stdout",
     "output_type": "stream",
     "text": [
      "n, n_2:  5 5\n",
      "n, n_2:  5 4\n",
      "n, n_2:  5 3\n",
      "n, n_2:  5 2\n",
      "n, n_2:  5 1\n"
     ]
    }
   ],
   "source": [
    "n = 5\n",
    "n_2 = 5\n",
    "\n",
    "for i in range(n):\n",
    "    while n_2 > 0:\n",
    "        print(\"n, n_2: \",n, n_2)\n",
    "        n_2 -= 1"
   ]
  },
  {
   "attachments": {},
   "cell_type": "markdown",
   "metadata": {},
   "source": [
    "9) Imprimir los números primos existentes entre 0 y 30"
   ]
  },
  {
   "cell_type": "code",
   "execution_count": 9,
   "metadata": {},
   "outputs": [
    {
     "name": "stdout",
     "output_type": "stream",
     "text": [
      "1 es un numero primo\n",
      "3 es un numero primo\n",
      "5 es un numero primo\n",
      "7 es un numero primo\n",
      "11 es un numero primo\n",
      "13 es un numero primo\n",
      "17 es un numero primo\n",
      "19 es un numero primo\n",
      "23 es un numero primo\n",
      "29 es un numero primo\n",
      "196 iteraciones\n"
     ]
    }
   ],
   "source": [
    "n = 30\n",
    "its = 0\n",
    "\n",
    "for i in range(1,n+1,2):\n",
    "    aux = 0\n",
    "    for j in range(2,i):\n",
    "        its += 1 \n",
    "        if i%j == 0:\n",
    "            aux += 1\n",
    "    if aux == 0:\n",
    "        print(f\"{i} es un numero primo\")\n",
    "        \n",
    "print(f\"{its} iteraciones\")"
   ]
  },
  {
   "attachments": {},
   "cell_type": "markdown",
   "metadata": {},
   "source": [
    "10) ¿Se puede mejorar el proceso del punto 9? Utilizar las sentencias break y/ó continue para tal fin"
   ]
  },
  {
   "cell_type": "code",
   "execution_count": 10,
   "metadata": {},
   "outputs": [
    {
     "name": "stdout",
     "output_type": "stream",
     "text": [
      "1 es un numero primo\n",
      "3 es un numero primo\n",
      "5 es un numero primo\n",
      "7 es un numero primo\n",
      "11 es un numero primo\n",
      "13 es un numero primo\n",
      "17 es un numero primo\n",
      "19 es un numero primo\n",
      "23 es un numero primo\n",
      "29 es un numero primo\n",
      "121 iteraciones\n"
     ]
    }
   ],
   "source": [
    "n = 30\n",
    "its = 0\n",
    "\n",
    "for i in range(1,n+1,2):\n",
    "    aux = 0\n",
    "    for j in range(2,i):\n",
    "        its += 1 \n",
    "        if i%j == 0:\n",
    "            aux += 1\n",
    "            break\n",
    "    if aux == 0:\n",
    "        print(f\"{i} es un numero primo\")\n",
    "        \n",
    "print(f\"{its} iteraciones\")"
   ]
  },
  {
   "attachments": {},
   "cell_type": "markdown",
   "metadata": {},
   "source": [
    "11) En los puntos 9 y 10, se diseño un código que encuentra números primos y además se lo optimizó. ¿Es posible saber en qué medida se optimizó?"
   ]
  },
  {
   "cell_type": "code",
   "execution_count": 11,
   "metadata": {},
   "outputs": [
    {
     "name": "stdout",
     "output_type": "stream",
     "text": [
      "Tasa de mejora:  38.26530612244898\n"
     ]
    }
   ],
   "source": [
    "p_9 = 196\n",
    "p_10 = 121\n",
    "\n",
    "print(\"Tasa de mejora: \", (1-p_10/p_9) * 100)"
   ]
  },
  {
   "attachments": {},
   "cell_type": "markdown",
   "metadata": {},
   "source": [
    "12) Aplicando continue, armar un ciclo while que solo imprima los valores divisibles por 12, dentro del rango de números de 100 a 300"
   ]
  },
  {
   "cell_type": "code",
   "execution_count": 12,
   "metadata": {},
   "outputs": [
    {
     "name": "stdout",
     "output_type": "stream",
     "text": [
      "300\n",
      "288\n",
      "276\n",
      "264\n",
      "252\n",
      "240\n",
      "228\n",
      "216\n",
      "204\n",
      "192\n",
      "180\n",
      "168\n",
      "156\n",
      "144\n",
      "132\n",
      "120\n",
      "108\n",
      "Iteraciones necesarias: 101\n"
     ]
    }
   ],
   "source": [
    "min = 100\n",
    "n = 300\n",
    "its = 0\n",
    "\n",
    "while n >= min:\n",
    "    its += 1\n",
    "    if n % 12 != 0:\n",
    "        n -= 2\n",
    "        continue\n",
    "    print(n)\n",
    "    n -= 2\n",
    "    \n",
    "print(\"Iteraciones necesarias: \" + str(its) )"
   ]
  },
  {
   "attachments": {},
   "cell_type": "markdown",
   "metadata": {},
   "source": [
    "13) Utilizar la función **input()** que permite hacer ingresos por teclado, para encontrar números primos y dar la opción al usario de buscar el siguiente"
   ]
  },
  {
   "cell_type": "code",
   "execution_count": 13,
   "metadata": {},
   "outputs": [
    {
     "name": "stdout",
     "output_type": "stream",
     "text": [
      "1, 3, 5, 7, 11, 13, 17, 19, 23, \n"
     ]
    }
   ],
   "source": [
    "while True:\n",
    "    n = int(input(\"Ingrese un numero:\"))\n",
    "\n",
    "    for i in range(1,n+1,2):\n",
    "        aux = 0\n",
    "        for j in range(2,i):\n",
    "            its += 1\n",
    "            if i%j == 0:\n",
    "                aux += 1\n",
    "                break                        \n",
    "        if aux == 0:\n",
    "            print(i, end=\", \")\n",
    "    \n",
    "    respuesta = input(\"Desea continuar? (S/N)[N]:\")\n",
    "    print()\n",
    "    \n",
    "    if respuesta.upper() == \"S\":\n",
    "        continue\n",
    "    else:\n",
    "        break\n",
    "    "
   ]
  },
  {
   "attachments": {},
   "cell_type": "markdown",
   "metadata": {},
   "source": [
    "14) Crear un ciclo while que encuentre dentro del rango de 100 a 300 el primer número divisible por 3 y además múltiplo de 6"
   ]
  },
  {
   "cell_type": "code",
   "execution_count": 14,
   "metadata": {},
   "outputs": [
    {
     "name": "stdout",
     "output_type": "stream",
     "text": [
      "102\n",
      "Iteraciones necesarias: 3\n"
     ]
    }
   ],
   "source": [
    "n = 100\n",
    "max = 300\n",
    "its = 0\n",
    "\n",
    "while n <= max:\n",
    "    its += 1\n",
    "    if n % 3 == 0 and n % 6 == 0:\n",
    "        print(n)\n",
    "        break\n",
    "    n += 1\n",
    "    \n",
    "print(\"Iteraciones necesarias: \" + str(its) )"
   ]
  }
 ],
 "metadata": {
  "interpreter": {
   "hash": "c85384e4cb51c8b72350f3a8712cc8351fdc3955e32a27f9b60c6242ab125f01"
  },
  "kernelspec": {
   "display_name": "Python 3 (ipykernel)",
   "language": "python",
   "name": "python3"
  },
  "language_info": {
   "codemirror_mode": {
    "name": "ipython",
    "version": 3
   },
   "file_extension": ".py",
   "mimetype": "text/x-python",
   "name": "python",
   "nbconvert_exporter": "python",
   "pygments_lexer": "ipython3",
   "version": "3.11.4"
  }
 },
 "nbformat": 4,
 "nbformat_minor": 4
}
